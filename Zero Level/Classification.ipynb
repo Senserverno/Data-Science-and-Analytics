{
 "cells": [
  {
   "cell_type": "code",
   "execution_count": 21,
   "id": "5f7cab9b-ef69-48a5-9662-b72d7534d8f8",
   "metadata": {},
   "outputs": [],
   "source": [
    "import numpy as np\n",
    "import pandas as pd\n",
    "import matplotlib"
   ]
  },
  {
   "cell_type": "code",
   "execution_count": 16,
   "id": "c2bef0eb-8760-4fd8-b699-e95484279eef",
   "metadata": {},
   "outputs": [
    {
     "data": {
      "text/html": [
       "<div>\n",
       "<style scoped>\n",
       "    .dataframe tbody tr th:only-of-type {\n",
       "        vertical-align: middle;\n",
       "    }\n",
       "\n",
       "    .dataframe tbody tr th {\n",
       "        vertical-align: top;\n",
       "    }\n",
       "\n",
       "    .dataframe thead th {\n",
       "        text-align: right;\n",
       "    }\n",
       "</style>\n",
       "<table border=\"1\" class=\"dataframe\">\n",
       "  <thead>\n",
       "    <tr style=\"text-align: right;\">\n",
       "      <th></th>\n",
       "      <th>disk</th>\n",
       "      <th>os</th>\n",
       "      <th>price</th>\n",
       "      <th>year</th>\n",
       "    </tr>\n",
       "  </thead>\n",
       "  <tbody>\n",
       "    <tr>\n",
       "      <th>0</th>\n",
       "      <td>64</td>\n",
       "      <td>Android</td>\n",
       "      <td>7256</td>\n",
       "      <td>2016</td>\n",
       "    </tr>\n",
       "    <tr>\n",
       "      <th>1</th>\n",
       "      <td>128</td>\n",
       "      <td>Android</td>\n",
       "      <td>7623</td>\n",
       "      <td>2015</td>\n",
       "    </tr>\n",
       "    <tr>\n",
       "      <th>2</th>\n",
       "      <td>64</td>\n",
       "      <td>Android</td>\n",
       "      <td>1916</td>\n",
       "      <td>2010</td>\n",
       "    </tr>\n",
       "    <tr>\n",
       "      <th>3</th>\n",
       "      <td>512</td>\n",
       "      <td>iOS</td>\n",
       "      <td>15045</td>\n",
       "      <td>2017</td>\n",
       "    </tr>\n",
       "    <tr>\n",
       "      <th>4</th>\n",
       "      <td>16</td>\n",
       "      <td>Android</td>\n",
       "      <td>4478</td>\n",
       "      <td>2013</td>\n",
       "    </tr>\n",
       "    <tr>\n",
       "      <th>5</th>\n",
       "      <td>512</td>\n",
       "      <td>iOS</td>\n",
       "      <td>15842</td>\n",
       "      <td>2018</td>\n",
       "    </tr>\n",
       "    <tr>\n",
       "      <th>6</th>\n",
       "      <td>128</td>\n",
       "      <td>Android</td>\n",
       "      <td>7191</td>\n",
       "      <td>2015</td>\n",
       "    </tr>\n",
       "    <tr>\n",
       "      <th>7</th>\n",
       "      <td>64</td>\n",
       "      <td>Android</td>\n",
       "      <td>4277</td>\n",
       "      <td>2013</td>\n",
       "    </tr>\n",
       "    <tr>\n",
       "      <th>8</th>\n",
       "      <td>512</td>\n",
       "      <td>iOS</td>\n",
       "      <td>12797</td>\n",
       "      <td>2015</td>\n",
       "    </tr>\n",
       "    <tr>\n",
       "      <th>9</th>\n",
       "      <td>64</td>\n",
       "      <td>Android</td>\n",
       "      <td>6256</td>\n",
       "      <td>2015</td>\n",
       "    </tr>\n",
       "    <tr>\n",
       "      <th>10</th>\n",
       "      <td>512</td>\n",
       "      <td>iOS</td>\n",
       "      <td>13788</td>\n",
       "      <td>2016</td>\n",
       "    </tr>\n",
       "    <tr>\n",
       "      <th>11</th>\n",
       "      <td>128</td>\n",
       "      <td>Android</td>\n",
       "      <td>10729</td>\n",
       "      <td>2018</td>\n",
       "    </tr>\n",
       "    <tr>\n",
       "      <th>12</th>\n",
       "      <td>512</td>\n",
       "      <td>iOS</td>\n",
       "      <td>9392</td>\n",
       "      <td>2012</td>\n",
       "    </tr>\n",
       "    <tr>\n",
       "      <th>13</th>\n",
       "      <td>128</td>\n",
       "      <td>Android</td>\n",
       "      <td>5416</td>\n",
       "      <td>2013</td>\n",
       "    </tr>\n",
       "    <tr>\n",
       "      <th>14</th>\n",
       "      <td>256</td>\n",
       "      <td>iOS</td>\n",
       "      <td>7334</td>\n",
       "      <td>2012</td>\n",
       "    </tr>\n",
       "  </tbody>\n",
       "</table>\n",
       "</div>"
      ],
      "text/plain": [
       "    disk       os  price  year\n",
       "0     64  Android   7256  2016\n",
       "1    128  Android   7623  2015\n",
       "2     64  Android   1916  2010\n",
       "3    512      iOS  15045  2017\n",
       "4     16  Android   4478  2013\n",
       "5    512      iOS  15842  2018\n",
       "6    128  Android   7191  2015\n",
       "7     64  Android   4277  2013\n",
       "8    512      iOS  12797  2015\n",
       "9     64  Android   6256  2015\n",
       "10   512      iOS  13788  2016\n",
       "11   128  Android  10729  2018\n",
       "12   512      iOS   9392  2012\n",
       "13   128  Android   5416  2013\n",
       "14   256      iOS   7334  2012"
      ]
     },
     "execution_count": 16,
     "metadata": {},
     "output_type": "execute_result"
    }
   ],
   "source": [
    "phones = pd.read_csv(r\"C:/Users/Lord/Desktop/DataSets/1.8_phones.csv\")\n",
    "\n",
    "phones.head(15)"
   ]
  },
  {
   "cell_type": "code",
   "execution_count": 17,
   "id": "658fc332-e05c-4c22-b7b3-2d5448ef320e",
   "metadata": {},
   "outputs": [],
   "source": [
    "from sklearn.tree import DecisionTreeClassifier\n",
    "from sklearn.tree import export_text"
   ]
  },
  {
   "cell_type": "code",
   "execution_count": 46,
   "id": "7ccef9c2-8385-44d8-b51d-0cdc5ee11370",
   "metadata": {},
   "outputs": [],
   "source": [
    "X = phones[[\"year\",\"price\"]] \n",
    "Y = phones[\"os\"]\n",
    "\n",
    "cl = DecisionTreeClassifier().fit(X, Y)"
   ]
  },
  {
   "cell_type": "code",
   "execution_count": 47,
   "id": "b8ead67f-2bec-40d7-a829-e6d8f0822861",
   "metadata": {},
   "outputs": [
    {
     "name": "stdout",
     "output_type": "stream",
     "text": [
      "|--- feature_1 <= 7660.50\n",
      "|   |--- feature_0 <= 2012.50\n",
      "|   |   |--- feature_1 <= 3855.50\n",
      "|   |   |   |--- class: Android\n",
      "|   |   |--- feature_1 >  3855.50\n",
      "|   |   |   |--- class: iOS\n",
      "|   |--- feature_0 >  2012.50\n",
      "|   |   |--- class: Android\n",
      "|--- feature_1 >  7660.50\n",
      "|   |--- feature_0 <= 2015.50\n",
      "|   |   |--- class: iOS\n",
      "|   |--- feature_0 >  2015.50\n",
      "|   |   |--- feature_1 <= 11017.00\n",
      "|   |   |   |--- class: Android\n",
      "|   |   |--- feature_1 >  11017.00\n",
      "|   |   |   |--- class: iOS\n",
      "\n"
     ]
    }
   ],
   "source": [
    "#индексация с нуля офк\n",
    "print(export_text(cl))"
   ]
  },
  {
   "cell_type": "code",
   "execution_count": 51,
   "id": "f28843ab-43da-4f98-bc17-6d5dfe8b7995",
   "metadata": {},
   "outputs": [
    {
     "data": {
      "text/plain": [
       "('iOS', 'Android')"
      ]
     },
     "execution_count": 51,
     "metadata": {},
     "output_type": "execute_result"
    }
   ],
   "source": [
    "cl.predict(X[3:8])[0], Y[1]"
   ]
  },
  {
   "cell_type": "code",
   "execution_count": null,
   "id": "d374b578-4941-4135-82a4-029978df583c",
   "metadata": {},
   "outputs": [],
   "source": []
  }
 ],
 "metadata": {
  "kernelspec": {
   "display_name": "Python 3 (ipykernel)",
   "language": "python",
   "name": "python3"
  },
  "language_info": {
   "codemirror_mode": {
    "name": "ipython",
    "version": 3
   },
   "file_extension": ".py",
   "mimetype": "text/x-python",
   "name": "python",
   "nbconvert_exporter": "python",
   "pygments_lexer": "ipython3",
   "version": "3.9.6"
  }
 },
 "nbformat": 4,
 "nbformat_minor": 5
}
